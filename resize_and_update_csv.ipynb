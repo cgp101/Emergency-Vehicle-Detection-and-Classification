{
 "cells": [
  {
   "cell_type": "code",
   "execution_count": null,
   "id": "dadf6257",
   "metadata": {},
   "outputs": [],
   "source": [
    "import os\n",
    "from PIL import Image\n",
    "import pandas as pd\n",
    "\n",
    "# Paths\n",
    "image_folder = '/Users/cgp/Desktop/ft_rescale'\n",
    "output_folder = '/Users/cgp/ft_rescale'\n",
    "csv_file = 'train_vt.csv'\n",
    "vehicle_type = 'fire truck'  # Update with the correct vehicle type\n",
    "\n",
    "# Desired image size based on existing training data\n",
    "target_size = (224, 224)\n",
    "\n",
    "# Create the output folder if it doesn't exist\n",
    "os.makedirs(output_folder, exist_ok=True)\n",
    "\n",
    "# Load the existing CSV\n",
    "train_df = pd.read_csv(csv_file)\n",
    "\n",
    "# Resize images and update CSV\n",
    "for filename in os.listdir(image_folder):\n",
    "    if filename.lower().endswith(('.jpg', '.jpeg')):\n",
    "        img_path = os.path.join(image_folder, filename)\n",
    "        img = Image.open(img_path)\n",
    "\n",
    "        # Convert image to RGB mode if it is in RGBA mode\n",
    "        if img.mode == 'RGBA':\n",
    "            img = img.convert('RGB')\n",
    "\n",
    "        # Resize image to match the target size\n",
    "        img = img.resize(target_size, Image.ANTIALIAS)\n",
    "        \n",
    "        # Save the resized image in the output folder\n",
    "        new_filename = os.path.join(output_folder, filename)\n",
    "        img.save(new_filename)\n",
    "        \n",
    "        # Add the new image details to the CSV\n",
    "        new_row = {'image_names': filename, 'emergency_or_not': 1, 'vehicle_type': vehicle_type}\n",
    "        train_df = train_df.append(new_row, ignore_index=True)\n",
    "\n",
    "# Save the updated CSV\n",
    "train_df.to_csv(csv_file, index=False)\n",
    "\n",
    "print(f\"Resized images saved to {output_folder} and CSV file updated.\")\n"
   ]
  }
 ],
 "metadata": {
  "kernelspec": {
   "display_name": "Python 3 (ipykernel)",
   "language": "python",
   "name": "python3"
  },
  "language_info": {
   "codemirror_mode": {
    "name": "ipython",
    "version": 3
   },
   "file_extension": ".py",
   "mimetype": "text/x-python",
   "name": "python",
   "nbconvert_exporter": "python",
   "pygments_lexer": "ipython3",
   "version": "3.10.9"
  }
 },
 "nbformat": 4,
 "nbformat_minor": 5
}
